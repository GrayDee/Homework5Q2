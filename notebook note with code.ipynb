{
  "nbformat": 4,
  "nbformat_minor": 0,
  "metadata": {
    "language_info": {
      "name": "python",
      "codemirror_mode": {
        "name": "ipython",
        "version": 3
      },
      "version": "3.7.6-final"
    },
    "orig_nbformat": 2,
    "file_extension": ".py",
    "mimetype": "text/x-python",
    "name": "python",
    "npconvert_exporter": "python",
    "pygments_lexer": "ipython3",
    "version": 3,
    "kernelspec": {
      "name": "python37664bitfastaiconda149f4ca18fae45818735beadf08062d0",
      "language": "python",
      "display_name": "Python 3.7.6 64-bit ('fastai': conda)"
    },
    "colab": {
      "provenance": []
    }
  },
  "cells": [
    {
      "cell_type": "markdown",
      "metadata": {
        "id": "j0Y0eV8lHi9t"
      },
      "source": [
        "### Step 1:\n",
        "Import libraries <br>\n",
        "numpy, pandas, torch <br>\n",
        "DataLoader and Dataset from data module <br>\n",
        "datasets and transforms from torchvision <br>"
      ]
    },
    {
      "cell_type": "code",
      "source": [
        "import numpy as np\n",
        "import pandas as pd\n",
        "import torch\n",
        "from torch.utils.data import DataLoader, Dataset\n",
        "from torchvision import datasets, transforms"
      ],
      "metadata": {
        "id": "PVSo-mA0xvda"
      },
      "execution_count": 1,
      "outputs": []
    },
    {
      "cell_type": "markdown",
      "source": [
        "### Step 2:\n",
        "import cuda from torch and set the device to cuda or cpu depends if cuda is available"
      ],
      "metadata": {
        "id": "P1pK-H0yH3oN"
      }
    },
    {
      "cell_type": "code",
      "source": [
        "from torch import cuda\n",
        "\n",
        "device = \"cuda\" if cuda.is_available() else \"cpu\"\n",
        "device"
      ],
      "metadata": {
        "colab": {
          "base_uri": "https://localhost:8080/",
          "height": 35
        },
        "id": "eCQ1zeE9yEG2",
        "outputId": "bfa5eddf-10fe-4377-d57c-dcb63ef5d754"
      },
      "execution_count": 2,
      "outputs": [
        {
          "output_type": "execute_result",
          "data": {
            "text/plain": [
              "'cpu'"
            ],
            "application/vnd.google.colaboratory.intrinsic+json": {
              "type": "string"
            }
          },
          "metadata": {},
          "execution_count": 2
        }
      ]
    },
    {
      "cell_type": "markdown",
      "source": [
        "### Step 3:\n",
        "Split the dataset from data folder <br>\n",
        "Set the root, train, transform, and download parameters using MNIST function"
      ],
      "metadata": {
        "id": "3Ff4IxG8IBgM"
      }
    },
    {
      "cell_type": "code",
      "source": [
        "train_dataset = datasets.MNIST(root='./data', train=True, transform=transforms.ToTensor(), download=True)\n",
        "test_dataset = datasets.MNIST(root='./data', train=False, transform=transforms.ToTensor(), download=True)"
      ],
      "metadata": {
        "id": "dVeiNbVcybzy"
      },
      "execution_count": 3,
      "outputs": []
    },
    {
      "cell_type": "markdown",
      "source": [
        "### Step 4:\n",
        "Create the train and test dataloader<br>\n",
        "Set the dataset, batch, and shuffle parameters"
      ],
      "metadata": {
        "id": "mQ-4KN2bIRb4"
      }
    },
    {
      "cell_type": "code",
      "source": [
        "train_dataloader = DataLoader(dataset=train_dataset, batch_size=32, shuffle=True)\n",
        "test_dataloader = DataLoader(dataset=test_dataset, batch_size=32, shuffle=False)"
      ],
      "metadata": {
        "id": "pZAJaGCN0l2n"
      },
      "execution_count": 4,
      "outputs": []
    },
    {
      "cell_type": "markdown",
      "source": [
        "### Step 5:\n",
        "Define the model class from Module with 2 functions: Init and forward<br>\n",
        "\n",
        "Initilize the model with 2 conv layer and 1 linear layer: <br>\n",
        "1st convolutional layer has a input dim of 1 and output dim of 10 with a kernel size of 5<br>\n",
        "2nd convolutional layer has a input dim of 10 and output dim of 20 with a kernel size of 5<br>\n",
        "the linear layer has a input dim of 320 and output dim of 10<br>\n",
        "a max pooling of size 2<br>\n",
        "\n",
        "Define the forward function: <br>\n",
        "Use the ReLU on the results after applying pooling on both convolutional layers <br>\n",
        "call log_softmax on the output layer <br>\n"
      ],
      "metadata": {
        "id": "-HuvdSHbIkiW"
      }
    },
    {
      "cell_type": "code",
      "source": [
        "class Model(torch.nn.Module):\n",
        "  def __init__(self):\n",
        "    super(Model, self).__init__()\n",
        "    self.conv1 = torch.nn.Conv2d(1, 10, kernel_size=5)\n",
        "    self.conv2 = torch.nn.Conv2d(10, 20, kernel_size=5)\n",
        "\n",
        "    self.l1 = torch.nn.Linear(320, 10)\n",
        "    self.max = torch.nn.MaxPool2d(2)\n",
        "\n",
        "  def forward(self, x):\n",
        "    in_size = x.size(0)\n",
        "    x = torch.nn.functional.relu(self.max(self.conv1(x)))\n",
        "    x = torch.nn.functional.relu(self.max(self.conv2(x)))\n",
        "    x = x.view(in_size, -1)\n",
        "    return torch.nn.functional.log_softmax(self.l1(x))"
      ],
      "metadata": {
        "id": "drtTWoSI038q"
      },
      "execution_count": 5,
      "outputs": []
    },
    {
      "cell_type": "markdown",
      "source": [
        "### Step 6:\n",
        "Instantiate the model and put it to device"
      ],
      "metadata": {
        "id": "wcq4MgfAKdfk"
      }
    },
    {
      "cell_type": "code",
      "source": [
        "model = Model()\n",
        "model.to(device)"
      ],
      "metadata": {
        "colab": {
          "base_uri": "https://localhost:8080/"
        },
        "id": "ArPvdLsI2gPp",
        "outputId": "04b236e6-1f7a-41cd-fe83-a7ba426f172e"
      },
      "execution_count": 6,
      "outputs": [
        {
          "output_type": "execute_result",
          "data": {
            "text/plain": [
              "Model(\n",
              "  (conv1): Conv2d(1, 10, kernel_size=(5, 5), stride=(1, 1))\n",
              "  (conv2): Conv2d(10, 20, kernel_size=(5, 5), stride=(1, 1))\n",
              "  (l1): Linear(in_features=320, out_features=10, bias=True)\n",
              "  (max): MaxPool2d(kernel_size=2, stride=2, padding=0, dilation=1, ceil_mode=False)\n",
              ")"
            ]
          },
          "metadata": {},
          "execution_count": 6
        }
      ]
    },
    {
      "cell_type": "markdown",
      "source": [
        "### Step 7\n",
        ":Use CrossEntropyLoss with a mean reduction as the loss function <br>\n",
        "use SGD as optimizer with a learning rate of 0.01 and momentum of 0.05 <br>"
      ],
      "metadata": {
        "id": "rU5tob1vKh1v"
      }
    },
    {
      "cell_type": "code",
      "source": [
        "criterion = torch.nn.CrossEntropyLoss(reduction=\"mean\")\n",
        "optimus = torch.optim.SGD(model.parameters(), lr=0.01, momentum=0.05)"
      ],
      "metadata": {
        "id": "hI7ejh_R2pJ6"
      },
      "execution_count": 7,
      "outputs": []
    },
    {
      "cell_type": "markdown",
      "source": [
        "### Step 8:\n",
        "Define the train method <br>\n",
        "It has a epoch parameter representing the number of epoch the model trains <br>\n",
        "Activate the training model of the model<br>\n",
        "Iterate each data in the training dataloader: <br>\n",
        "Using the model to predict with givin input <br>\n",
        "Calulate the loss with prediction and label <br>\n",
        "Prints the loss value for every 500 sample <br>\n",
        "Resets the gradient and ue back propagation to update the optimizer <br>"
      ],
      "metadata": {
        "id": "66SBI4TxK0rH"
      }
    },
    {
      "cell_type": "code",
      "source": [
        "def train(epoch, train_dataloader):\n",
        "  model.train()\n",
        "  for _, data in enumerate(train_dataloader, 0):\n",
        "    inputs, label = data\n",
        "    inputs.to(device)\n",
        "    label.to(device)\n",
        "\n",
        "    predict = model.forward(inputs)\n",
        "\n",
        "    loss = criterion(predict, label)\n",
        "\n",
        "    if _%500 == 0:\n",
        "      print(f\"epoch {epoch}: loss: {loss}\")\n",
        "\n",
        "    optimus.zero_grad()\n",
        "    loss.backward()\n",
        "    optimus.step()"
      ],
      "metadata": {
        "id": "5EnyO4ff3FXI"
      },
      "execution_count": 8,
      "outputs": []
    },
    {
      "cell_type": "markdown",
      "source": [
        "### Step 9:\n",
        "Define the valid function <br>\n",
        "It has a parameter of test dataloader <br>\n",
        "Activate the evaluation mode of the model <br>\n",
        "Disable the gradient<br>\n",
        "for each data sample in the test dataloader <br>\n",
        "Put them to device and print the validation completion (Optional) <br>\n",
        "Use the model to predict with given inputs\n",
        "Get the max predict value at dimension 1 and get the number of correct labels <br>"
      ],
      "metadata": {
        "id": "z6gQYLq8MuWG"
      }
    },
    {
      "cell_type": "code",
      "source": [
        "def valid(test_dataloader):\n",
        "  model.eval()\n",
        "  total=0\n",
        "  n_correct=0\n",
        "  with torch.no_grad():\n",
        "    for _, data in enumerate(test_dataloader, 0):\n",
        "      inputs, label = data\n",
        "      inputs.to(device)\n",
        "      label.to(device)\n",
        "\n",
        "      if total%500==0:\n",
        "        print(f\"Validation complete for {total} samples\")\n",
        "\n",
        "      predict = model.forward(inputs)\n",
        "      total += label.size(0)\n",
        "      val, idx = torch.max(predict, dim=1)\n",
        "      n_correct += (idx==label).sum().item()\n",
        "\n",
        "  return n_correct*100/total"
      ],
      "metadata": {
        "id": "ibLhdWT94K8p"
      },
      "execution_count": 9,
      "outputs": []
    },
    {
      "cell_type": "markdown",
      "source": [
        "### Step 10:\n",
        "Start training <br>\n",
        "Print out the steps and status <br>\n",
        "Print out the accuracy <br>"
      ],
      "metadata": {
        "id": "RweM0HrLOFDV"
      }
    },
    {
      "cell_type": "code",
      "source": [
        "print(f\"Training starts......................\")\n",
        "\n",
        "for epoch in range(0,2):\n",
        "    train(epoch, train_dataloader)\n",
        "\n",
        "print('Training completed....................')\n",
        "\n",
        "print('Test starts...........................')\n",
        "acc = valid(test_dataloader)\n",
        "print('Test completed........................')\n",
        "\n",
        "print(f'The accuracy for this model is {acc}')\n"
      ],
      "metadata": {
        "colab": {
          "base_uri": "https://localhost:8080/"
        },
        "id": "pv6wGpDWwSAE",
        "outputId": "ddd3e497-9904-49e7-f9e9-a0d762c4da83"
      },
      "execution_count": 10,
      "outputs": [
        {
          "output_type": "stream",
          "name": "stdout",
          "text": [
            "Training starts......................\n",
            "epoch 0: loss: 2.282376289367676\n"
          ]
        },
        {
          "output_type": "stream",
          "name": "stderr",
          "text": [
            "<ipython-input-5-ec17bbc2d563>:15: UserWarning: Implicit dimension choice for log_softmax has been deprecated. Change the call to include dim=X as an argument.\n",
            "  return torch.nn.functional.log_softmax(self.l1(x))\n"
          ]
        },
        {
          "output_type": "stream",
          "name": "stdout",
          "text": [
            "epoch 0: loss: 0.39797914028167725\n",
            "epoch 0: loss: 0.7429326176643372\n",
            "epoch 0: loss: 0.14587146043777466\n",
            "epoch 1: loss: 0.35074713826179504\n",
            "epoch 1: loss: 0.26746267080307007\n",
            "epoch 1: loss: 0.050792891532182693\n",
            "epoch 1: loss: 0.2074107676744461\n",
            "Training completed....................\n",
            "Test starts...........................\n",
            "Validation complete for 0 samples\n",
            "Validation complete for 4000 samples\n",
            "Validation complete for 8000 samples\n",
            "Test completed........................\n",
            "The accuracy for this model is 96.67\n"
          ]
        }
      ]
    },
    {
      "cell_type": "code",
      "source": [],
      "metadata": {
        "id": "PmvM1EjI6kyk"
      },
      "execution_count": 10,
      "outputs": []
    }
  ]
}