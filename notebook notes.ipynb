{
  "nbformat": 4,
  "nbformat_minor": 0,
  "metadata": {
    "language_info": {
      "name": "python",
      "codemirror_mode": {
        "name": "ipython",
        "version": 3
      },
      "version": "3.7.6-final"
    },
    "orig_nbformat": 2,
    "file_extension": ".py",
    "mimetype": "text/x-python",
    "name": "python",
    "npconvert_exporter": "python",
    "pygments_lexer": "ipython3",
    "version": 3,
    "kernelspec": {
      "name": "python37664bitfastaiconda149f4ca18fae45818735beadf08062d0",
      "language": "python",
      "display_name": "Python 3.7.6 64-bit ('fastai': conda)"
    },
    "colab": {
      "provenance": []
    }
  },
  "cells": [
    {
      "cell_type": "markdown",
      "metadata": {
        "id": "j0Y0eV8lHi9t"
      },
      "source": [
        "### Step 1:\n",
        "Import libraries <br>\n",
        "numpy, pandas, torch <br>\n",
        "DataLoader and Dataset from data module <br>\n",
        "datasets and transforms from torchvision <br>"
      ]
    },
    {
      "cell_type": "markdown",
      "source": [
        "### Step 2:\n",
        "import cuda from torch and set the device to cuda or cpu depends if cuda is available"
      ],
      "metadata": {
        "id": "P1pK-H0yH3oN"
      }
    },
    {
      "cell_type": "markdown",
      "source": [
        "### Step 3:\n",
        "Split the dataset from data folder <br>\n",
        "Set the root, train, transform, and download parameters"
      ],
      "metadata": {
        "id": "3Ff4IxG8IBgM"
      }
    },
    {
      "cell_type": "markdown",
      "source": [
        "### Step 4:\n",
        "Create the train and test dataloader<br>\n",
        "Set the dataset, batch, and shuffle parameters"
      ],
      "metadata": {
        "id": "mQ-4KN2bIRb4"
      }
    },
    {
      "cell_type": "markdown",
      "source": [
        "### Step 5:\n",
        "Define the model class from Module with 2 functions: Init and forward<br>\n",
        "\n",
        "Initilize the model with 2 conv layer and 1 linear layer: <br>\n",
        "1st convolutional layer has a input dim of 1 and output dim of 10 with a kernel size of 5<br>\n",
        "2nd convolutional layer has a input dim of 10 and output dim of 20 with a kernel size of 5<br>\n",
        "the linear layer has a input dim of 320 and output dim of 10<br>\n",
        "a max pooling of size 2<br>\n",
        "\n",
        "Define the forward function: <br>\n",
        "in_size = x.size(0) <br>\n",
        "call pooling on both convolutional layers <br>\n",
        "then call ReLU function on both pooling results <br>\n",
        "view(in_size, -1) <br>\n",
        "call log_softmax on the output layer <br>\n"
      ],
      "metadata": {
        "id": "-HuvdSHbIkiW"
      }
    },
    {
      "cell_type": "markdown",
      "source": [
        "### Step 6:\n",
        "Instantiate the model and put it to device"
      ],
      "metadata": {
        "id": "wcq4MgfAKdfk"
      }
    },
    {
      "cell_type": "markdown",
      "source": [
        "### Step 7\n",
        ":Use CrossEntropyLoss with a mean reduction as the loss function <br>\n",
        "use SGD as optimizer with a learning rate of 0.01 and momentum of 0.05 <br>"
      ],
      "metadata": {
        "id": "rU5tob1vKh1v"
      }
    },
    {
      "cell_type": "markdown",
      "source": [
        "### Step 8:\n",
        "Define the train method <br>\n",
        "It has a epoch parameter representing the number of epoch the model trains <br>\n",
        "Start training <br>\n",
        "For each data in the training dataloader: <br>\n",
        "Put both inputs and labels to device <br>\n",
        "Using the model to predict with givin input <br>\n",
        "Calulate the loss with prediction and label <br>\n",
        "Prints the loss value for every 500 sample <br>\n",
        "Resets the gradient and ue back propagation to update the optimizer <br>"
      ],
      "metadata": {
        "id": "66SBI4TxK0rH"
      }
    },
    {
      "cell_type": "markdown",
      "source": [
        "### Step 9:\n",
        "Define the valid function <br>\n",
        "It has a parameter of test dataloader <br>\n",
        "Activate the evaluation mode of the model <br>\n",
        "Disable the gradient<br>\n",
        "for each data sample in the test dataloader <br>\n",
        "Put them to device and print the validation completion (Optional) <br>\n",
        "Use the model to predict with given inputs\n",
        "Get the max predict value at dimension 1 and get the number of correct labels <br>"
      ],
      "metadata": {
        "id": "z6gQYLq8MuWG"
      }
    },
    {
      "cell_type": "markdown",
      "source": [
        "### Step 10:\n",
        "Start training <br>\n",
        "Print out the steps and status <br>\n",
        "Print out the accuracy <br>"
      ],
      "metadata": {
        "id": "RweM0HrLOFDV"
      }
    },
    {
      "cell_type": "code",
      "execution_count": null,
      "metadata": {
        "id": "wjUBKpWWHi90"
      },
      "outputs": [],
      "source": []
    }
  ]
}